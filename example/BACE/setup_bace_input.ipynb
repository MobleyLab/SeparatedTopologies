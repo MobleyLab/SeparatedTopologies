{
 "cells": [
  {
   "cell_type": "code",
   "execution_count": 1,
   "id": "eff3b81b",
   "metadata": {},
   "outputs": [],
   "source": [
    "import sys"
   ]
  },
  {
   "cell_type": "code",
   "execution_count": 2,
   "id": "db9f0131",
   "metadata": {},
   "outputs": [],
   "source": [
    "#Insert path to Separated Topologies repo\n",
    "sys.path.insert(1, '/Users/hannahbaumann/Google Drive/sep_top/SeparatedTopologies/')"
   ]
  },
  {
   "cell_type": "code",
   "execution_count": 3,
   "id": "8809c2db",
   "metadata": {},
   "outputs": [],
   "source": [
    "import make_septop as ms\n",
    "import combine_coordinates as ac\n",
    "import boresch_restraints as br\n",
    "import distance_solvent as ds\n",
    "import os\n",
    "import parmed as pmd"
   ]
  },
  {
   "cell_type": "markdown",
   "id": "d225eff4",
   "metadata": {},
   "source": [
    "# Create input files for the complex"
   ]
  },
  {
   "cell_type": "markdown",
   "id": "d8fd6b92",
   "metadata": {},
   "source": [
    "## Defining input file names"
   ]
  },
  {
   "cell_type": "code",
   "execution_count": 13,
   "id": "1010c97f",
   "metadata": {},
   "outputs": [],
   "source": [
    "#path to data folder\n",
    "path = 'complex'\n",
    "#ligand folders: name of this folder is considered the ligand name\n",
    "ligand_A = 'lig_13'\n",
    "ligand_B = 'lig_16'\n",
    "#directories\n",
    "compound_A = '%s/%s'%(path, ligand_A)\n",
    "compound_B = '%s/%s'%(path, ligand_B)\n",
    "#name of mol2 files ligand\n",
    "mol2_A = '%s/%s.mol2'%(compound_A, ligand_A)\n",
    "mol2_B = '%s/%s.mol2'%(compound_B, ligand_B)\n",
    "#name of complex files\n",
    "pdb_A = '%s/complex.pdb'%(compound_A)\n",
    "pdb_B = '%s/complex.pdb'%(compound_B)\n",
    "gro_A = '%s/complex.gro'%(compound_A)\n",
    "#Input of an equilibrium simulation for Boresch selection is optional, \n",
    "#but recommended for selection of suitable atoms for restraints\n",
    "#Not including trajectory here since file too large, using last frame equilibrium run instead\n",
    "traj_A = '%s/complex.gro'%(compound_A)\n",
    "traj_B = '%s/complex.gro'%(compound_B)\n",
    "top_A = '%s/complex.top'%(compound_A)\n",
    "top_B = '%s/complex.top'%(compound_B)"
   ]
  },
  {
   "cell_type": "code",
   "execution_count": 5,
   "id": "332eaaba",
   "metadata": {},
   "outputs": [],
   "source": [
    "#scaling factor gamma for eps-HREX\n",
    "gamma = 0.5"
   ]
  },
  {
   "cell_type": "code",
   "execution_count": 6,
   "id": "06719581",
   "metadata": {},
   "outputs": [],
   "source": [
    "#Three letter code for ligands\n",
    "lig = 'LIG'"
   ]
  },
  {
   "cell_type": "code",
   "execution_count": 7,
   "id": "46bd4a53",
   "metadata": {},
   "outputs": [],
   "source": [
    "#Create a folder for the edge\n",
    "edge_A_B = '%s/edge_%s_%s'%(path, ligand_A, ligand_B)\n",
    "if not os.path.isdir(edge_A_B):os.mkdir(edge_A_B)"
   ]
  },
  {
   "cell_type": "markdown",
   "id": "86d57ec6",
   "metadata": {},
   "source": [
    "## Generate SepTop coordinate file"
   ]
  },
  {
   "cell_type": "code",
   "execution_count": 8,
   "id": "53fca1dc",
   "metadata": {},
   "outputs": [],
   "source": [
    "#define some names of intermediate files of aligned complexes\n",
    "fit_B = '%s/complex_fit.pdb'%compound_B\n",
    "gro_B = '%s/complex_fit.gro'%compound_B\n",
    "#define name of output file (SepTop coordinate file)\n",
    "complex = '%s/complex.gro'%edge_A_B"
   ]
  },
  {
   "cell_type": "code",
   "execution_count": 9,
   "id": "c00aff49",
   "metadata": {},
   "outputs": [],
   "source": [
    "# Align complexed to be able to insert ligand B into complex of ligand A\n",
    "# *** This part requires Openeye Spruce license. If not available, please use different alignment tool ***\n",
    "ac.align_complexes(pdb_A, pdb_B, fit_B)"
   ]
  },
  {
   "cell_type": "code",
   "execution_count": 10,
   "id": "f280b13f",
   "metadata": {},
   "outputs": [
    {
     "name": "stdout",
     "output_type": "stream",
     "text": [
      "<Structure 63421 atoms; 19583 residues; 44315 bonds; PBC (orthogonal); NOT parametrized>\n"
     ]
    }
   ],
   "source": [
    "# Convert .pdb to .gro\n",
    "ac.pdb2gro(fit_B, gro_B)"
   ]
  },
  {
   "cell_type": "code",
   "execution_count": 11,
   "id": "f3aefb51",
   "metadata": {},
   "outputs": [],
   "source": [
    "#Insert ligand B  coordinates into coordinate file or complex A\n",
    "complex = ac.combine_ligands_gro(gro_A, gro_B, complex, ligand_A=lig, ligand_B=lig)"
   ]
  },
  {
   "cell_type": "code",
   "execution_count": 12,
   "id": "1d1dc839",
   "metadata": {},
   "outputs": [],
   "source": [
    "# Edit indices\n",
    "complex = ac.edit_indices(complex,complex)"
   ]
  },
  {
   "cell_type": "markdown",
   "id": "c16cc7b4",
   "metadata": {},
   "source": [
    "## Pick atoms for Boresch restraints and add that section"
   ]
  },
  {
   "cell_type": "code",
   "execution_count": 14,
   "id": "8c34cc3c",
   "metadata": {},
   "outputs": [
    {
     "name": "stderr",
     "output_type": "stream",
     "text": [
      "/Users/hannahbaumann/miniconda3/envs/orion/lib/python3.7/site-packages/mdtraj/core/trajectory.py:419: UserWarning: top= kwarg ignored since file contains topology information\n",
      "  warnings.warn('top= kwarg ignored since file contains topology information')\n",
      "/Users/hannahbaumann/miniconda3/envs/orion/lib/python3.7/site-packages/mdtraj/utils/validation.py:116: TypeCastPerformanceWarning: Casting unitcell_vectors dtype=float64 to <class 'numpy.float32'> \n",
      "  TypeCastPerformanceWarning)\n"
     ]
    },
    {
     "name": "stdout",
     "output_type": "stream",
     "text": [
      "[1.32, 50.49, 84.27, -89.4, -64.22, 131.45]\n",
      "[1.51, 47.25, 124.09, -86.06, -8.43, -87.74]\n",
      "[2933, 511, 493, 6053, 6054, 6059]\n",
      "[2933, 511, 493, 6105, 6103, 6097]\n"
     ]
    }
   ],
   "source": [
    "bore_A_on = '%s/boresch_restraints_A_on.itp'%edge_A_B\n",
    "bore_B_off = '%s/boresch_restraints_B_off.itp'%edge_A_B\n",
    "bore_A = '%s/boresch_restraints_A.itp'%edge_A_B\n",
    "bore_B = '%s/boresch_restraints_B.itp'%edge_A_B\n",
    "restrain_A, restrain_B, dG_A_off, dG_B_on = br.restrain_ligands(traj_A,traj_B,mol2_A,mol2_B, \n",
    "                                            bore_A_on, bore_B_off, bore_A, bore_B,\n",
    "                                            ligand_atoms=None, protein_atoms=None, substructure=None,\n",
    "                                            ligand=lig, top_A=gro_A, top_B=gro_B)"
   ]
  },
  {
   "cell_type": "markdown",
   "id": "f4c53536",
   "metadata": {},
   "source": [
    "## Generating the separated topology"
   ]
  },
  {
   "cell_type": "markdown",
   "id": "925a816d",
   "metadata": {},
   "source": [
    "### 1. Insert ligand B into the same molecule section as ligand A in complex A"
   ]
  },
  {
   "cell_type": "code",
   "execution_count": 15,
   "id": "07374b51",
   "metadata": {},
   "outputs": [],
   "source": [
    "top = '%s/complex.top'%edge_A_B\n",
    "#Combine topology files\n",
    "ms.combine_ligands_top(top_A, top_B, top, ligand=lig)"
   ]
  },
  {
   "cell_type": "code",
   "execution_count": 16,
   "id": "4a4f89b2",
   "metadata": {},
   "outputs": [],
   "source": [
    "#Name top output files for two steps\n",
    "step_1 = '%s/complex_1_scale.top'%edge_A_B\n",
    "step_2 = '%s/complex_2_scale.top'%edge_A_B"
   ]
  },
  {
   "cell_type": "markdown",
   "id": "6cbd856f",
   "metadata": {},
   "source": [
    "### 2. Generate separated topology files for step1"
   ]
  },
  {
   "cell_type": "code",
   "execution_count": 17,
   "id": "6b088633",
   "metadata": {},
   "outputs": [],
   "source": [
    "# Generate separated topology file\n",
    "ms.create_top(top, step_1, gamma, 'vdwq_scaled-vdw', 'dummy_scaled-vdwq', top_A, top_B, ligand=lig)\n",
    "#Include Boresch .itp files into .top file \n",
    "br.include_itp_in_top(step_1, bore_B)\n",
    "br.include_itp_in_top(step_1, bore_A_on)"
   ]
  },
  {
   "cell_type": "markdown",
   "id": "bd446bd0",
   "metadata": {},
   "source": [
    "### 3. Generate separated topology files for step2"
   ]
  },
  {
   "cell_type": "code",
   "execution_count": 18,
   "id": "6068ebbb",
   "metadata": {},
   "outputs": [],
   "source": [
    "# Generate separated topology file\n",
    "ms.create_top(top, step_2, gamma, 'scaled-vdw_dummy', 'scaled-vdwq_vdwq', top_A, top_B, ligand=lig)\n",
    "#Include Boresch .itp files into .top file \n",
    "br.include_itp_in_top(step_2, bore_B_off)\n",
    "br.include_itp_in_top(step_2, bore_A)"
   ]
  },
  {
   "cell_type": "markdown",
   "id": "02b22800",
   "metadata": {},
   "source": [
    "# Create input files for the solvent"
   ]
  },
  {
   "cell_type": "markdown",
   "id": "34256f5c",
   "metadata": {},
   "source": [
    "## Defining input file names"
   ]
  },
  {
   "cell_type": "code",
   "execution_count": 19,
   "id": "8e5a377a",
   "metadata": {},
   "outputs": [],
   "source": [
    "#path to data folder\n",
    "path = 'solvent'\n",
    "\n",
    "#ligand folders: name of this folder is considered the ligand name\n",
    "ligand_A = 'lig_13'\n",
    "ligand_B = 'lig_16'\n",
    "\n",
    "#directories of ligand input files\n",
    "compound_A = '%s/%s'%(path, ligand_A)\n",
    "compound_B = '%s/%s'%(path, ligand_B)\n",
    "\n",
    "#name of solvent .gro and .top files\n",
    "gro_A = '%s/solvent.gro'%compound_A\n",
    "gro_B = '%s/solvent.gro'%compound_B\n",
    "top_A = '%s/solvent.top'%compound_A\n",
    "top_B = '%s/solvent.top'%compound_B\n",
    "\n",
    "#scaling factor gamma\n",
    "gamma = 0.3\n",
    "\n",
    "#Create new folder for each edge\n",
    "edge_A_B = '%s/edge_%s_%s'%(path, ligand_A, ligand_B)\n",
    "if not os.path.isdir(edge_A_B):os.mkdir(edge_A_B)\n",
    "\n",
    "#Three letter code for ligands\n",
    "lig = 'UNL'"
   ]
  },
  {
   "cell_type": "markdown",
   "id": "a74abba1",
   "metadata": {},
   "source": [
    "## Generate SepTop coordinate file"
   ]
  },
  {
   "cell_type": "code",
   "execution_count": 20,
   "id": "4041791a",
   "metadata": {},
   "outputs": [],
   "source": [
    "solv_gro = '%s/solvent.gro'%edge_A_B\n",
    "ac.combine_ligands_gro(gro_A, gro_B, solv_gro, ligand_A=lig, ligand_B=lig)\n",
    "ac.edit_indices(solv_gro,solv_gro)"
   ]
  },
  {
   "cell_type": "markdown",
   "id": "c01b5280",
   "metadata": {},
   "source": [
    "## Generating the separated topology"
   ]
  },
  {
   "cell_type": "markdown",
   "id": "aa38cb1f",
   "metadata": {},
   "source": [
    "### 1. Insert ligand B into the same molecule section as ligand A in complex A"
   ]
  },
  {
   "cell_type": "code",
   "execution_count": 21,
   "id": "59054ad5",
   "metadata": {},
   "outputs": [],
   "source": [
    "#Specify output file names\n",
    "top = '%s/solvent.top'%edge_A_B\n",
    "step_1 = '%s/step1.top'%edge_A_B\n",
    "step_1_eq = '%s/step1_eq.top'%edge_A_B\n",
    "step_2 = '%s/step2.top'%edge_A_B\n",
    "step_2_eq = '%s/step2_eq.top'%edge_A_B"
   ]
  },
  {
   "cell_type": "code",
   "execution_count": 22,
   "id": "55e4a2ed",
   "metadata": {},
   "outputs": [],
   "source": [
    "#Combine topology ligand B and topology A\n",
    "ms.combine_ligands_top(top_A, top_B, top, ligand=lig)"
   ]
  },
  {
   "cell_type": "markdown",
   "id": "040f33e7",
   "metadata": {},
   "source": [
    "### 2. Generate separated topology files for step1"
   ]
  },
  {
   "cell_type": "code",
   "execution_count": 23,
   "id": "0ad10d47",
   "metadata": {},
   "outputs": [
    {
     "data": {
      "text/plain": [
       "'solvent/edge_lig_13_lig_16/step1_eq.top'"
      ]
     },
     "execution_count": 23,
     "metadata": {},
     "output_type": "execute_result"
    }
   ],
   "source": [
    "#Create complex step 1\n",
    "ms.create_top(top, step_1, gamma, 'vdwq_scaled-vdw', 'dummy_scaled-vdwq', top_A, top_B, ligand=lig)\n",
    "ms.create_top(top, step_1_eq, gamma, 'vdwq_scaled-vdw', 'dummy_scaled-vdwq', top_A, top_B, ligand=lig)"
   ]
  },
  {
   "cell_type": "markdown",
   "id": "fbe56efa",
   "metadata": {},
   "source": [
    "### 3. Generate separated topology files for step2"
   ]
  },
  {
   "cell_type": "code",
   "execution_count": 24,
   "id": "71a5aeb7",
   "metadata": {},
   "outputs": [
    {
     "data": {
      "text/plain": [
       "'solvent/edge_lig_13_lig_16/step2_eq.top'"
      ]
     },
     "execution_count": 24,
     "metadata": {},
     "output_type": "execute_result"
    }
   ],
   "source": [
    "#Create complex step 2\n",
    "ms.create_top(top, step_2, gamma, 'scaled-vdw_dummy', 'scaled-vdwq_vdwq', top_A, top_B, ligand=lig)\n",
    "ms.create_top(top, step_2_eq, gamma, 'scaled-vdw_dummy', 'scaled-vdwq_vdwq', top_A, top_B, ligand=lig)"
   ]
  },
  {
   "cell_type": "markdown",
   "id": "71fad9d1",
   "metadata": {},
   "source": [
    "### 4. Add .itp file with distance restraint"
   ]
  },
  {
   "cell_type": "code",
   "execution_count": 25,
   "id": "bdeeb2cf",
   "metadata": {},
   "outputs": [],
   "source": [
    "#Load in .top and .gro and save .gro again to fix residue numbers\n",
    "gro = pmd.load_file(step_1, xyz=solv_gro)\n",
    "gro.save(solv_gro, overwrite=True)"
   ]
  },
  {
   "cell_type": "code",
   "execution_count": 26,
   "id": "8aeb3203",
   "metadata": {},
   "outputs": [],
   "source": [
    "#define value for force constants\n",
    "#equilibrate first with low force constant to avoid instabilities\n",
    "fc_eq = 1.0\n",
    "fc_prod = 1000.0"
   ]
  },
  {
   "cell_type": "code",
   "execution_count": 27,
   "id": "d76e43b0",
   "metadata": {},
   "outputs": [],
   "source": [
    "#restrain atoms closest to the COM of the two ligands using a single harmonic distance restraint\n",
    "atoms_restrain,dist = ds.distance_restraint(solv_gro,lig)\n",
    "ds.write_itp_restraints(atoms_restrain, dist, fc_eq,fc_eq, '%s/dist_restraint_eq.itp'%edge_A_B)\n",
    "ds.write_itp_restraints(atoms_restrain, dist, fc_prod,fc_prod, '%s/dist_restraint.itp'%edge_A_B)"
   ]
  },
  {
   "cell_type": "code",
   "execution_count": 28,
   "id": "7433022d",
   "metadata": {},
   "outputs": [],
   "source": [
    "#Include .itp files in the topology files\n",
    "br.include_itp_in_top(step_1, 'dist_restraint.itp')\n",
    "br.include_itp_in_top(step_1_eq, 'dist_restraint_eq.itp')\n",
    "br.include_itp_in_top(step_2, 'dist_restraint.itp')\n",
    "br.include_itp_in_top(step_2_eq, 'dist_restraint_eq.itp')"
   ]
  },
  {
   "cell_type": "code",
   "execution_count": null,
   "id": "6b2ba0ab",
   "metadata": {},
   "outputs": [],
   "source": []
  }
 ],
 "metadata": {
  "kernelspec": {
   "display_name": "Python 3",
   "language": "python",
   "name": "python3"
  },
  "language_info": {
   "codemirror_mode": {
    "name": "ipython",
    "version": 3
   },
   "file_extension": ".py",
   "mimetype": "text/x-python",
   "name": "python",
   "nbconvert_exporter": "python",
   "pygments_lexer": "ipython3",
   "version": "3.7.7"
  }
 },
 "nbformat": 4,
 "nbformat_minor": 5
}
